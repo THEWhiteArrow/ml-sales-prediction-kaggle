{
 "cells": [
  {
   "cell_type": "code",
   "execution_count": 1,
   "id": "0ea1db6c",
   "metadata": {
    "execution": {
     "iopub.execute_input": "2024-04-11T07:57:45.671910Z",
     "iopub.status.busy": "2024-04-11T07:57:45.671435Z",
     "iopub.status.idle": "2024-04-11T07:57:49.860457Z",
     "shell.execute_reply": "2024-04-11T07:57:49.859311Z"
    },
    "papermill": {
     "duration": 4.200041,
     "end_time": "2024-04-11T07:57:49.863267",
     "exception": false,
     "start_time": "2024-04-11T07:57:45.663226",
     "status": "completed"
    },
    "tags": []
   },
   "outputs": [],
   "source": [
    "import pandas as pd\n",
    "import numpy as np\n",
    "from datetime import datetime\n",
    "from typing import List, cast, Literal, Tuple, Dict\n",
    "from sklearn.multioutput import RegressorChain\n",
    "from sklearn.metrics import mean_squared_error, mean_squared_log_error\n",
    "from xgboost import XGBRegressor\n",
    "import lightgbm as lgb\n",
    "import optuna"
   ]
  },
  {
   "cell_type": "markdown",
   "id": "1035915f",
   "metadata": {
    "papermill": {
     "duration": 0.005511,
     "end_time": "2024-04-11T07:57:49.875311",
     "exception": false,
     "start_time": "2024-04-11T07:57:49.869800",
     "status": "completed"
    },
    "tags": []
   },
   "source": [
    "**LOAD DATA WITH CORRECT TYPES**"
   ]
  },
  {
   "cell_type": "code",
   "execution_count": 2,
   "id": "44d620ab",
   "metadata": {
    "execution": {
     "iopub.execute_input": "2024-04-11T07:57:49.889522Z",
     "iopub.status.busy": "2024-04-11T07:57:49.888958Z",
     "iopub.status.idle": "2024-04-11T07:58:32.392253Z",
     "shell.execute_reply": "2024-04-11T07:58:32.391202Z"
    },
    "papermill": {
     "duration": 42.512971,
     "end_time": "2024-04-11T07:58:32.394757",
     "exception": false,
     "start_time": "2024-04-11T07:57:49.881786",
     "status": "completed"
    },
    "tags": []
   },
   "outputs": [],
   "source": [
    "stores = pd.read_csv(\"/kaggle/input/store-sales-time-series-forecasting/stores.csv\")\n",
    "holidays_events = pd.read_csv(\"/kaggle/input/store-sales-time-series-forecasting/holidays_events.csv\",dtype={\n",
    "            \"type\": \"category\",\n",
    "            \"locale\": \"category\",\n",
    "            \"locale_name\": \"category\",\n",
    "            \"description\": \"category\",\n",
    "            \"transferred\": \"bool\",\n",
    "            \"date\": \"period[D]\"\n",
    "        }\n",
    ")\n",
    "store_sales = pd.read_csv(\"/kaggle/input/store-sales-time-series-forecasting/train.csv\",\n",
    "        dtype={\n",
    "            \"store_nbr\": \"category\",\n",
    "            \"family\": \"category\",\n",
    "            \"sales\": \"float32\",\n",
    "            \"onpromotion\": \"uint32\",\n",
    "            \"date\": \"period[D]\"\n",
    "        }\n",
    ")\n",
    "query = pd.read_csv(\"/kaggle/input/store-sales-time-series-forecasting/test.csv\",\n",
    "        dtype={\n",
    "            \"store_nbr\": \"category\",\n",
    "            \"family\": \"category\",\n",
    "            \"onpromotion\": \"uint32\",\n",
    "            \"date\": \"period[D]\"\n",
    "        }\n",
    ")\n",
    "oil = pd.read_csv(\"/kaggle/input/store-sales-time-series-forecasting/oil.csv\", \n",
    "        dtype={            \n",
    "            \"date\": \"period[D]\"\n",
    "        }\n",
    ")\n",
    "transactions = pd.read_csv(\"/kaggle/input/store-sales-time-series-forecasting/transactions.csv\")"
   ]
  },
  {
   "cell_type": "markdown",
   "id": "dfd53c58",
   "metadata": {
    "papermill": {
     "duration": 0.005421,
     "end_time": "2024-04-11T07:58:32.406104",
     "exception": false,
     "start_time": "2024-04-11T07:58:32.400683",
     "status": "completed"
    },
    "tags": []
   },
   "source": [
    "**ADDITIONAL HELPER FUNCTIONS**"
   ]
  },
  {
   "cell_type": "code",
   "execution_count": 3,
   "id": "007e1fb4",
   "metadata": {
    "execution": {
     "iopub.execute_input": "2024-04-11T07:58:32.419220Z",
     "iopub.status.busy": "2024-04-11T07:58:32.418817Z",
     "iopub.status.idle": "2024-04-11T07:58:32.462615Z",
     "shell.execute_reply": "2024-04-11T07:58:32.461367Z"
    },
    "papermill": {
     "duration": 0.05429,
     "end_time": "2024-04-11T07:58:32.466063",
     "exception": false,
     "start_time": "2024-04-11T07:58:32.411773",
     "status": "completed"
    },
    "tags": []
   },
   "outputs": [
    {
     "name": "stdout",
     "output_type": "stream",
     "text": [
      "1.Current time: 07:58:32\n"
     ]
    }
   ],
   "source": [
    "main_index: List[str] = [\"date\", \"store_nbr\", \"family\"]\n",
    "secondary_index: List[str] = [\"store_nbr\", \"family\"]\n",
    "unique_families = store_sales[\"family\"].unique()\n",
    "unique_stores = store_sales[\"store_nbr\"].unique()\n",
    "\n",
    "def timeline(reset = False):\n",
    "    global timeline_index\n",
    "    if reset is True:\n",
    "        timeline_index = 1\n",
    "    else :\n",
    "        try:\n",
    "            timeline_index += 1\n",
    "        except Exception:\n",
    "            timeline_index = 1\n",
    "        \n",
    "    print(\"{}.Current time: {}\".format(timeline_index,datetime.now().strftime(\"%H:%M:%S\")))\n",
    "timeline()"
   ]
  },
  {
   "cell_type": "code",
   "execution_count": 4,
   "id": "8e0b5593",
   "metadata": {
    "execution": {
     "iopub.execute_input": "2024-04-11T07:58:32.480292Z",
     "iopub.status.busy": "2024-04-11T07:58:32.479879Z",
     "iopub.status.idle": "2024-04-11T07:58:32.497032Z",
     "shell.execute_reply": "2024-04-11T07:58:32.495836Z"
    },
    "papermill": {
     "duration": 0.026554,
     "end_time": "2024-04-11T07:58:32.499187",
     "exception": false,
     "start_time": "2024-04-11T07:58:32.472633",
     "status": "completed"
    },
    "tags": []
   },
   "outputs": [],
   "source": [
    "def make_mw_in_groups(\n",
    "    df: pd.DataFrame,\n",
    "    groupby: List[str] = [],\n",
    "    column: str = \"\",\n",
    "    window: List[int] | int = 30,\n",
    "    center: List[bool] | bool  = False,\n",
    "    min_periods: List[int] | int  = 1,\n",
    "    aggregator: List[Literal[\"mean\",\"sum\",\"median\",\"std\",\"var\"]] | Literal[\"mean\",\"sum\",\"median\",\"std\",\"var\"] = \"mean\",\n",
    "    name: str | None = None,\n",
    ") -> pd.DataFrame:\n",
    "    df = df.copy(deep=True)\n",
    "    if name is None:\n",
    "        name = column\n",
    "    \n",
    "    if isinstance(window,int):\n",
    "        window = [window]\n",
    "        \n",
    "    window = list(filter(lambda x : x != 0, window))\n",
    "    if len(window) == 0 :\n",
    "        raise ValueError(\"Window value must be non-zero!\")\n",
    "    if isinstance(center,bool):\n",
    "        center = [center] * len(window)\n",
    "    if isinstance(min_periods,int):\n",
    "        min_periods = [min_periods]*len(window)\n",
    "    if isinstance(aggregator,str):\n",
    "        aggregator = [aggregator]*len(window)\n",
    "        \n",
    "    \n",
    "    def create_mw_columns(group):\n",
    "        ma_group = pd.DataFrame(index=group.index)\n",
    "        for index, val in enumerate(window):\n",
    "            type_name = \"lag\" if val > 0 else \"lead\"\n",
    "            if val < 0 :\n",
    "                ma_group[f\"{name}_{type_name}_{aggregator[index]}_{-val}\"] = group[column].rolling(window=-val, center=center[index], min_periods=min_periods[index]).aggregate(aggregator[index]).shift(val)\n",
    "            else:\n",
    "                ma_group[f\"{name}_{type_name}_{aggregator[index]}_{val}\"] = group[column].shift(1).rolling(window=val, center=center[index], min_periods=min_periods[index]).aggregate(aggregator[index])\n",
    "        \n",
    "        return ma_group\n",
    "    \n",
    "    return cast(pd.DataFrame,df.reset_index(groupby).groupby(groupby, observed=True).apply(create_mw_columns, include_groups=False).reset_index(groupby).set_index(groupby, append=True).sort_index())\n",
    "\n",
    "\n",
    "def make_shift_in_groups(\n",
    "    df: pd.DataFrame,\n",
    "    groupby: List[str] = [],\n",
    "    column: str = \"\",\n",
    "    shift: List[int] | int = 1,\n",
    "    name : str | None = None,\n",
    ") -> pd.DataFrame:\n",
    "    df = df.copy(deep=True)\n",
    "    if name is None:\n",
    "        name = column\n",
    "        \n",
    "    if isinstance(shift,int):\n",
    "        shift = [shift]\n",
    "    \n",
    "    shift = list(filter(lambda el: el != 0, shift))\n",
    "    \n",
    "    if len(shift) == 0:\n",
    "        raise ValueError(\n",
    "            \"Shift value must be non-zero!\"\n",
    "        )\n",
    "\n",
    "    def create_shifted_columns(group):\n",
    "        shifted_group = pd.DataFrame(index=group.index)\n",
    "        for val in shift:\n",
    "\n",
    "            shifted_group[f\"{name}_{'lead' if val < 0 else 'lag'}_{abs(val)}\"] = (\n",
    "                group[column].shift(val)\n",
    "            )\n",
    "\n",
    "        return shifted_group\n",
    "\n",
    "    shifted_df = cast(\n",
    "        pd.DataFrame,\n",
    "        df.reset_index(groupby)\n",
    "        .groupby(groupby, observed=True)\n",
    "        .apply(create_shifted_columns, include_groups=False).reset_index(groupby).set_index(groupby, append=True).sort_index(),\n",
    "    )\n",
    "\n",
    "    return shifted_df"
   ]
  },
  {
   "cell_type": "code",
   "execution_count": 5,
   "id": "f3cfbcb9",
   "metadata": {
    "execution": {
     "iopub.execute_input": "2024-04-11T07:58:32.512292Z",
     "iopub.status.busy": "2024-04-11T07:58:32.511883Z",
     "iopub.status.idle": "2024-04-11T07:58:32.516809Z",
     "shell.execute_reply": "2024-04-11T07:58:32.515728Z"
    },
    "papermill": {
     "duration": 0.014213,
     "end_time": "2024-04-11T07:58:32.519215",
     "exception": false,
     "start_time": "2024-04-11T07:58:32.505002",
     "status": "completed"
    },
    "tags": []
   },
   "outputs": [],
   "source": [
    "TRAIN_START = \"2014-01-01\"\n",
    "TRAIN_END = \"2017-07-29\"\n",
    "\n",
    "TEST_DAY = \"2017-07-30\"\n",
    "\n",
    "X_START = \"2014-01-01\"\n",
    "X_END = \"2017-07-30\"\n",
    "\n",
    "QUERY_DAY = \"2017-08-15\"\n",
    "\n",
    "N_STEP_PREDICTION = 16"
   ]
  },
  {
   "cell_type": "markdown",
   "id": "5f19f9ce",
   "metadata": {
    "papermill": {
     "duration": 0.005369,
     "end_time": "2024-04-11T07:58:32.530314",
     "exception": false,
     "start_time": "2024-04-11T07:58:32.524945",
     "status": "completed"
    },
    "tags": []
   },
   "source": [
    "**DATA PREPARATION**"
   ]
  },
  {
   "cell_type": "code",
   "execution_count": 6,
   "id": "253d7714",
   "metadata": {
    "execution": {
     "iopub.execute_input": "2024-04-11T07:58:32.543332Z",
     "iopub.status.busy": "2024-04-11T07:58:32.542966Z",
     "iopub.status.idle": "2024-04-11T07:58:32.550875Z",
     "shell.execute_reply": "2024-04-11T07:58:32.549744Z"
    },
    "papermill": {
     "duration": 0.017146,
     "end_time": "2024-04-11T07:58:32.553079",
     "exception": false,
     "start_time": "2024-04-11T07:58:32.535933",
     "status": "completed"
    },
    "tags": []
   },
   "outputs": [],
   "source": [
    "def combine_data(store_sales, query, oil, holidays_events) -> pd.DataFrame:\n",
    "    store_sales = store_sales.copy(deep=True)\n",
    "    query = query.copy(deep=True)\n",
    "    oil = oil.copy(deep=True)\n",
    "    holidays_events.copy(deep=True)\n",
    "    \n",
    "    data = pd.concat([\n",
    "        store_sales.set_index(main_index),\n",
    "        query.set_index(main_index)\n",
    "    ], axis=0 )\n",
    "    \n",
    "    holidays_to_consider = holidays_events[\n",
    "        (holidays_events[\"transferred\"].eq(False))\n",
    "        & holidays_events[\"locale\"].isin([\"National\"])\n",
    "    ].drop_duplicates(keep=\"first\", subset=[\"date\"])\n",
    "    \n",
    "    all_periods = pd.period_range(\"2013-01-01\", \"2017-08-31\")\n",
    "    oil_prices = (\n",
    "        oil.set_index(\"date\")\n",
    "        .reindex(all_periods)\n",
    "        .rename_axis(\"date\").ffill().bfill()\n",
    "        .rename(columns={\"dcoilwtico\":\"oil\"})\n",
    "    )\n",
    "    \n",
    "    data_combined = (\n",
    "        data.reset_index(secondary_index)\n",
    "        .join(oil_prices)\n",
    "    )\n",
    "    data_combined[\"is_holiday\"] = data_combined.index.get_level_values(\"date\").isin(holidays_to_consider[\"date\"])\n",
    "    data_combined = data_combined.set_index(secondary_index, append=True)\n",
    "    return data_combined"
   ]
  },
  {
   "cell_type": "markdown",
   "id": "3902156b",
   "metadata": {
    "papermill": {
     "duration": 0.005598,
     "end_time": "2024-04-11T07:58:32.564776",
     "exception": false,
     "start_time": "2024-04-11T07:58:32.559178",
     "status": "completed"
    },
    "tags": []
   },
   "source": [
    "**FEATURE ENGINEERING**"
   ]
  },
  {
   "cell_type": "code",
   "execution_count": 7,
   "id": "c9e06bb7",
   "metadata": {
    "execution": {
     "iopub.execute_input": "2024-04-11T07:58:32.579671Z",
     "iopub.status.busy": "2024-04-11T07:58:32.578824Z",
     "iopub.status.idle": "2024-04-11T07:58:32.590547Z",
     "shell.execute_reply": "2024-04-11T07:58:32.589718Z"
    },
    "papermill": {
     "duration": 0.022107,
     "end_time": "2024-04-11T07:58:32.592744",
     "exception": false,
     "start_time": "2024-04-11T07:58:32.570637",
     "status": "completed"
    },
    "tags": []
   },
   "outputs": [],
   "source": [
    "def prepare_days_since_last_paycheck(date: pd.PeriodIndex) -> List[int]:\n",
    "\n",
    "    days_since_paycheck = [1] * len(date)\n",
    "    for i, period in enumerate(date):\n",
    "        if period.day == 15 or period.day == period.days_in_month:\n",
    "            continue\n",
    "        elif period.day < 15:\n",
    "            days_since_paycheck[i] = period.day + 1\n",
    "        else:\n",
    "            days_since_paycheck[i] = period.day - 15 + 1\n",
    "\n",
    "    return days_since_paycheck\n",
    "\n",
    "\n",
    "def engineer_features(\n",
    "    data : pd.DataFrame,\n",
    "    sales_shift : List[int] = [1,2,4],\n",
    "    sales_ma_window : List[int] = [7,14,28],\n",
    "    dow_ma_weeks_window : List[int] = [10],\n",
    "    oil_ma_window : List[int] = [-7, -16]\n",
    ") -> pd.DataFrame:\n",
    "    data = data.copy(deep=True)\n",
    "    data[\"year\"] = data.index.get_level_values(\"date\").year\n",
    "    data[\"month\"] = data.index.get_level_values(\"date\").month\n",
    "    data[\"day_of_week\"] = data.index.get_level_values(\"date\").day_of_week\n",
    "    data[\"end_of_year\"] = data.index.get_level_values(\"date\").month >= 11\n",
    "    data[\"quarter\"] = data.index.get_level_values(\"date\").quarter\n",
    "    data[\"family_cat\"] = data.index.get_level_values(\"family\")\n",
    "    data[\"store_cat\"] = data.index.get_level_values(\"store_nbr\")\n",
    "    \n",
    "#     data[\"days_since_last_paycheck\"] = prepare_days_since_last_paycheck(date=data.index.get_level_values(\"date\"))\n",
    "#     data[\"eartquake_impact\"] = data.index.get_level_values(\"date\").isin(pd.period_range(\"2016-04-16\", periods=90))\n",
    "    \n",
    "    grouped_lags_leads: List[pd.DataFrame] = [\n",
    "        make_shift_in_groups(\n",
    "            df = data,\n",
    "            groupby = secondary_index,\n",
    "            column = \"sales\",\n",
    "            shift = sales_shift\n",
    "        ),\n",
    "        make_mw_in_groups(\n",
    "            df = data,\n",
    "            groupby = secondary_index,\n",
    "            column = \"sales\",\n",
    "            window = sales_ma_window,\n",
    "            aggregator = \"mean\",\n",
    "            center = False\n",
    "        ),\n",
    "        make_mw_in_groups(\n",
    "            df = data.set_index(\"day_of_week\",append=True),\n",
    "            groupby = [\"store_nbr\",\"family\",\"day_of_week\"],\n",
    "            column = \"sales\",\n",
    "            # --- NOTICE ---\n",
    "            # window references the weeks\n",
    "            window = dow_ma_weeks_window,\n",
    "            aggregator = \"mean\"\n",
    "        ).reset_index(\"day_of_week\", drop=True),\n",
    "        make_mw_in_groups(\n",
    "            df = data,\n",
    "            groupby = secondary_index,\n",
    "            column = \"oil\",\n",
    "            window = oil_ma_window\n",
    "        ),\n",
    "    ]\n",
    "    \n",
    "    data_lag_lead = data.join(grouped_lags_leads)\n",
    "    \n",
    "    category_cols = [\"year\",\"month\",\"day_of_week\",\"end_of_year\",\"quarter\",\"family_cat\",\"store_cat\"]\n",
    "    data_lag_lead[category_cols] = data_lag_lead[category_cols].astype(\"category\")\n",
    "    \n",
    "    return data_lag_lead\n",
    "        \n"
   ]
  },
  {
   "cell_type": "markdown",
   "id": "cad3d512",
   "metadata": {
    "papermill": {
     "duration": 0.005443,
     "end_time": "2024-04-11T07:58:32.603917",
     "exception": false,
     "start_time": "2024-04-11T07:58:32.598474",
     "status": "completed"
    },
    "tags": []
   },
   "source": [
    "**PREPARE TRAIN & TEST SETS**"
   ]
  },
  {
   "cell_type": "code",
   "execution_count": 8,
   "id": "d6355545",
   "metadata": {
    "execution": {
     "iopub.execute_input": "2024-04-11T07:58:32.616988Z",
     "iopub.status.busy": "2024-04-11T07:58:32.616554Z",
     "iopub.status.idle": "2024-04-11T07:58:32.624610Z",
     "shell.execute_reply": "2024-04-11T07:58:32.623468Z"
    },
    "papermill": {
     "duration": 0.016985,
     "end_time": "2024-04-11T07:58:32.626525",
     "exception": false,
     "start_time": "2024-04-11T07:58:32.609540",
     "status": "completed"
    },
    "tags": []
   },
   "outputs": [],
   "source": [
    "def split_train_test(\n",
    "    df : pd.DataFrame,\n",
    "    train_start: str,\n",
    "    train_end: str,\n",
    "    test_day: str,\n",
    "    verboose: bool = True\n",
    ") -> Tuple[pd.DataFrame, pd.DataFrame, pd.DataFrame, pd.DataFrame]:\n",
    "    \n",
    "    df = df.copy()\n",
    "    if verboose is True:\n",
    "        display(df.columns)\n",
    "    \n",
    "    col_x_drop = [\"id\",\"sales\"]\n",
    "    target_cols = [\"sales\"]\n",
    "    \n",
    "    X_train = df.loc[train_start: train_end].drop(columns=col_x_drop)\n",
    "    X_test = df.loc[test_day: test_day].drop(columns=col_x_drop)\n",
    "    \n",
    "    y = make_shift_in_groups(\n",
    "        df = df,\n",
    "        groupby = secondary_index,\n",
    "        column = \"sales\",\n",
    "        shift = [-i for i in range(1, N_STEP_PREDICTION+1)]\n",
    "    )\n",
    "    y_train = y.loc[train_start: train_end]\n",
    "    y_test = y.loc[test_day: test_day]\n",
    "    \n",
    "    X_train_d = pd.get_dummies(X_train, drop_first = True)\n",
    "    X_test_d = pd.get_dummies(X_test, drop_first = True)\n",
    "    return X_train_d, X_test_d, y_train, y_test\n",
    "    "
   ]
  },
  {
   "cell_type": "code",
   "execution_count": 9,
   "id": "2259d275",
   "metadata": {
    "execution": {
     "iopub.execute_input": "2024-04-11T07:58:32.640449Z",
     "iopub.status.busy": "2024-04-11T07:58:32.639229Z",
     "iopub.status.idle": "2024-04-11T07:58:32.646106Z",
     "shell.execute_reply": "2024-04-11T07:58:32.645208Z"
    },
    "papermill": {
     "duration": 0.015948,
     "end_time": "2024-04-11T07:58:32.648262",
     "exception": false,
     "start_time": "2024-04-11T07:58:32.632314",
     "status": "completed"
    },
    "tags": []
   },
   "outputs": [],
   "source": [
    "def create_model(**params) :\n",
    "    # --- NOTICE ---\n",
    "    # It will allow for easy parameters manipulation and model changes\n",
    "    model = RegressorChain(XGBRegressor(**params))\n",
    "#     model = lgb.LGBMRegressor(**params)\n",
    "    return model\n",
    "    \n",
    "def validate_model(X_train, X_test, y_train, y_test) -> Tuple[pd.DataFrame, float]:\n",
    "    model = create_model().fit(X_train, y_train)\n",
    "    y_pred = pd.DataFrame(model.predict(X_test), index=X_test.index, columns=y_train.columns).clip(0.0)\n",
    "    \n",
    "    rsmle = mean_squared_log_error(y_test, y_pred)\n",
    "    \n",
    "    return y_pred, rsmle\n"
   ]
  },
  {
   "cell_type": "code",
   "execution_count": 10,
   "id": "1e7eb8f0",
   "metadata": {
    "execution": {
     "iopub.execute_input": "2024-04-11T07:58:32.662610Z",
     "iopub.status.busy": "2024-04-11T07:58:32.661821Z",
     "iopub.status.idle": "2024-04-11T07:58:32.669817Z",
     "shell.execute_reply": "2024-04-11T07:58:32.669001Z"
    },
    "papermill": {
     "duration": 0.017644,
     "end_time": "2024-04-11T07:58:32.672144",
     "exception": false,
     "start_time": "2024-04-11T07:58:32.654500",
     "status": "completed"
    },
    "tags": []
   },
   "outputs": [],
   "source": [
    "def rerun_model_test(verboose : bool = True, feature_adjustments : Dict[str,List[int]] = {}):\n",
    "    data = combine_data(store_sales, query, oil, holidays_events)\n",
    "    if verboose is True:\n",
    "        display(\"COMBINED DATA\", data)\n",
    "    \n",
    "    \n",
    "    eng_feat_set = engineer_features(data, **feature_adjustments)\n",
    "    if verboose is True:\n",
    "        display(\"ENGINEERED FEATURES\", eng_feat_set)\n",
    "    \n",
    "    X_train, X_test, y_train, y_test = split_train_test(eng_feat_set, TRAIN_START, TRAIN_END, TEST_DAY, verboose=verboose)\n",
    "    if verboose is True:\n",
    "        display(\"TRAIN/TEST SPLIT\", X_train, X_test, y_train,y_test)\n",
    "    \n",
    "    \n",
    "    if verboose is True:\n",
    "        display(\"VALIDATING MODEL...\")\n",
    "    \n",
    "    timeline()\n",
    "    y_test_pred, rsmle = validate_model(X_train, X_test, y_train, y_test)\n",
    "    print(f\"TESTED FOR: {feature_adjustments}, RSMLE: {rsmle}\")\n",
    "    timeline()\n",
    "    \n",
    "    if verboose is True:\n",
    "        display(y_test_pred)\n",
    "\n"
   ]
  },
  {
   "cell_type": "code",
   "execution_count": 11,
   "id": "4b9225ed",
   "metadata": {
    "execution": {
     "iopub.execute_input": "2024-04-11T07:58:32.685752Z",
     "iopub.status.busy": "2024-04-11T07:58:32.685005Z",
     "iopub.status.idle": "2024-04-11T07:58:32.690229Z",
     "shell.execute_reply": "2024-04-11T07:58:32.689462Z"
    },
    "papermill": {
     "duration": 0.014527,
     "end_time": "2024-04-11T07:58:32.692350",
     "exception": false,
     "start_time": "2024-04-11T07:58:32.677823",
     "status": "completed"
    },
    "tags": []
   },
   "outputs": [],
   "source": [
    "feature_adjustments_list : List[Dict[str,List[int]]] = [\n",
    "#     {},\n",
    "]\n",
    "    \n",
    "for feature_adjustments in feature_adjustments_list:\n",
    "    rerun_model_test(verboose=False, feature_adjustments=feature_adjustments )"
   ]
  },
  {
   "cell_type": "markdown",
   "id": "9566cfc0",
   "metadata": {
    "papermill": {
     "duration": 0.005396,
     "end_time": "2024-04-11T07:58:32.703505",
     "exception": false,
     "start_time": "2024-04-11T07:58:32.698109",
     "status": "completed"
    },
    "tags": []
   },
   "source": [
    "***LOGBOOK***\n",
    "\n",
    "**1.Initial setup without one-hot encodings:** RSMLE: 0.6812447830583148\n",
    "\n",
    "**2.Initial setup with all one-hot encodings:** RSMLE: 0.6145283461216959\n",
    "\n",
    "**3.Initial setup without DOWM_10:** RSMLE: 0.6559099951029017\n",
    "\n",
    "**4.V2 but no family and store_nbr:** RSMLE: 0.6302813566155643\n",
    "\n",
    "**5.Initial setup with 1-16-steps lead onpromotion:** RSMLE: 0.672006775918979 | ~8min\n",
    "\n",
    "**6.V4 without end_of_year:** RSMLE: 0.6715956378282983 | ~6min\n",
    "\n",
    "**7.V4 with eartquake_impact:** RSMLE: 0.6650935588175516 | ~7min\n",
    "\n",
    "**8.V4 without days_since_last_paycheck:** RSMLE: 0.5112336225425305 | ~7min\n",
    "\n",
    "**9.V8 with quarter:** RSMLE: 0.4681872772081537 | ~7min\n",
    "\n",
    "**10.V9 with start_year:** RSMLE: 0.4963768445333584 | ~7min\n",
    "\n",
    "**11.V10 training starts from 2016-01-01:** RSMLE: 0.7411192084551556 | ~3min\n",
    "\n",
    "**12.V8 with sales_lag_3:** RSMLE: 0.46908549576706216 | ~6min\n",
    "\n",
    "**13.V8 with sales_lag_4:** RSMLE: 0.4578231468785362 | ~7min\n",
    "\n",
    "**14.V8 with best_hyper_parameters:** RSMLE: 0.3027026586082895 | ~1h\n",
    "\n",
    "**15.V13 with family and store categories**\n"
   ]
  },
  {
   "cell_type": "markdown",
   "id": "785426a6",
   "metadata": {
    "papermill": {
     "duration": 0.005249,
     "end_time": "2024-04-11T07:58:32.714390",
     "exception": false,
     "start_time": "2024-04-11T07:58:32.709141",
     "status": "completed"
    },
    "tags": []
   },
   "source": [
    "**OPTUNA OPTYMALIZATION**"
   ]
  },
  {
   "cell_type": "code",
   "execution_count": 12,
   "id": "51b5baa7",
   "metadata": {
    "execution": {
     "iopub.execute_input": "2024-04-11T07:58:32.727305Z",
     "iopub.status.busy": "2024-04-11T07:58:32.726929Z",
     "iopub.status.idle": "2024-04-11T07:58:32.737423Z",
     "shell.execute_reply": "2024-04-11T07:58:32.736390Z"
    },
    "papermill": {
     "duration": 0.019791,
     "end_time": "2024-04-11T07:58:32.739880",
     "exception": false,
     "start_time": "2024-04-11T07:58:32.720089",
     "status": "completed"
    },
    "tags": []
   },
   "outputs": [],
   "source": [
    "def optymize_with_optuna():\n",
    "    data = combine_data(store_sales, query, oil, holidays_events)\n",
    "    eng_feat_set = engineer_features(data)    \n",
    "    X_train, X_test, y_train, y_test = split_train_test(eng_feat_set, TRAIN_START, TRAIN_END, TEST_DAY)\n",
    "    \n",
    "    def objective(trial):\n",
    "        params = {\n",
    "            \"n_estimators\": trial.suggest_int(\"n_estimators\", 100, 1000, step=50),  # Number of trees in the ensemble\n",
    "            \"max_depth\": trial.suggest_int(\"max_depth\", 3, 10),  # Maximum depth of each tree\n",
    "            \"learning_rate\": trial.suggest_float(\"learning_rate\", 0.01, 0.3, log=True),  # Learning rate\n",
    "            \"subsample\": trial.suggest_float(\"subsample\", 0.5, 1.0),  # Subsample ratio of the training instances\n",
    "            \"colsample_bytree\": trial.suggest_float(\"colsample_bytree\", 0.5, 1.0),  # Subsample ratio of columns when constructing each tree\n",
    "            \"gamma\": trial.suggest_float(\"gamma\", 0.01, 10.0, log=True),  # Minimum loss reduction required to make a further partition on a leaf node of the tree\n",
    "            \"reg_alpha\": trial.suggest_float(\"reg_alpha\", 1e-8, 100.0, log=True),  # L1 regularization term on weights\n",
    "            \"reg_lambda\": trial.suggest_float(\"reg_lambda\", 1e-8, 100.0, log=True),  # L2 regularization term on weights\n",
    "            \"min_child_weight\": trial.suggest_float(\"min_child_weight\", 1, 100, log=True),  # Minimum sum of instance weight (hessian) needed in a child\n",
    "        }\n",
    "        model = create_model(**params)\n",
    "        model = model.fit(X_train, y_train)\n",
    "\n",
    "        y_pred = model.predict(X_test)\n",
    "        rmse = mean_squared_error(y_test, y_pred)\n",
    "\n",
    "        return rmse\n",
    "\n",
    "    study = optuna.create_study(direction=\"minimize\", study_name=\"V9\")\n",
    "    study.optimize(objective, n_trials=8)\n",
    "\n",
    "    best_params = study.best_params\n",
    "    print((f\"Best hyperparameters: {best_params}\"))\n",
    "    \n",
    "# --- NOTICE ---\n",
    "# Uncomment line below to run optymalization\n",
    "\n",
    "# optymize_with_optuna()\n",
    "best_xgb_hyper_parameters = {\n",
    "    'n_estimators': 1000, \n",
    "    'max_depth': 9, \n",
    "    'learning_rate': 0.12605081311532235, \n",
    "    'subsample': 0.6245582839186816, \n",
    "    'colsample_bytree': 0.8404676393471824, \n",
    "    'gamma': 0.07728746653962874, \n",
    "    'reg_alpha': 3.2534719705809634, \n",
    "    'reg_lambda': 0.05386975318104558, \n",
    "    'min_child_weight': 5.771548202565809\n",
    "} \n"
   ]
  },
  {
   "cell_type": "code",
   "execution_count": 13,
   "id": "48e3d5b6",
   "metadata": {
    "execution": {
     "iopub.execute_input": "2024-04-11T07:58:32.753152Z",
     "iopub.status.busy": "2024-04-11T07:58:32.752636Z",
     "iopub.status.idle": "2024-04-11T07:58:32.759862Z",
     "shell.execute_reply": "2024-04-11T07:58:32.758747Z"
    },
    "papermill": {
     "duration": 0.016544,
     "end_time": "2024-04-11T07:58:32.762205",
     "exception": false,
     "start_time": "2024-04-11T07:58:32.745661",
     "status": "completed"
    },
    "tags": []
   },
   "outputs": [],
   "source": [
    "def prepare_prediction_for_output(y_pred: np.array, X_test : pd.DataFrame, y_train: pd.DataFrame, eng_feat_set: pd.DataFrame,  test_day : str, n_steps_prediction : int ) -> pd.DataFrame:\n",
    "    y_pred_df = pd.DataFrame(y_pred, index=X_test.index, columns=y_train.columns).clip(0.0)\n",
    "    y_pred_df.columns = pd.period_range(test_day, periods=n_steps_prediction+1)[1:]\n",
    "    y_submission = y_pred_df.reset_index(secondary_index).melt(id_vars=secondary_index,var_name=\"date\",value_name=\"sales\").set_index(main_index).join(eng_feat_set[\"id\"]).reindex(columns=[\"id\",\"sales\"])\n",
    "    \n",
    "    return y_submission"
   ]
  },
  {
   "cell_type": "code",
   "execution_count": 14,
   "id": "9aa86d7d",
   "metadata": {
    "execution": {
     "iopub.execute_input": "2024-04-11T07:58:32.775712Z",
     "iopub.status.busy": "2024-04-11T07:58:32.775328Z",
     "iopub.status.idle": "2024-04-11T07:58:32.782881Z",
     "shell.execute_reply": "2024-04-11T07:58:32.781756Z"
    },
    "papermill": {
     "duration": 0.017078,
     "end_time": "2024-04-11T07:58:32.785152",
     "exception": false,
     "start_time": "2024-04-11T07:58:32.768074",
     "status": "completed"
    },
    "tags": []
   },
   "outputs": [],
   "source": [
    " def rerun_model_submission(name:str = \"multi_submission.csv\", hyper_params : Dict[str,int | float] = {}, feature_adjustments : Dict[str,List[int]] = {} ):\n",
    "    data = combine_data(store_sales, query, oil, holidays_events) \n",
    "    \n",
    "    eng_feat_set = engineer_features(data, **feature_adjustments) \n",
    "    \n",
    "    X_train, X_test, y_train, y_test = split_train_test(eng_feat_set, X_START, X_END, QUERY_DAY, verboose=False)\n",
    "    \n",
    "    model = create_model(**hyper_params).fit(X_train, y_train)\n",
    "    y_submission_df = prepare_prediction_for_output(model.predict(X_test), X_test=X_test, y_train=y_train, eng_feat_set=eng_feat_set, test_day= QUERY_DAY, n_steps_prediction = N_STEP_PREDICTION)\n",
    "    \n",
    "    y_submission_df.to_csv(name, index=False)\n",
    "    return y_submission_df\n",
    "    "
   ]
  },
  {
   "cell_type": "code",
   "execution_count": 15,
   "id": "9b445f7b",
   "metadata": {
    "execution": {
     "iopub.execute_input": "2024-04-11T07:58:32.798723Z",
     "iopub.status.busy": "2024-04-11T07:58:32.797828Z",
     "iopub.status.idle": "2024-04-11T10:14:51.401172Z",
     "shell.execute_reply": "2024-04-11T10:14:51.400216Z"
    },
    "papermill": {
     "duration": 8178.612852,
     "end_time": "2024-04-11T10:14:51.403794",
     "exception": false,
     "start_time": "2024-04-11T07:58:32.790942",
     "status": "completed"
    },
    "tags": []
   },
   "outputs": [],
   "source": [
    "# sales_shift\n",
    "# sales_ma_window \n",
    "# dow_ma_weeks_window \n",
    "# oil_ma_window\n",
    "submission_generation_list : List[Dict] = [\n",
    "    {\n",
    "        \"name\": \"v15.csv\",\n",
    "        \"hyper_params\":{},\n",
    "        \"feature_adjustments\":{},\n",
    "    },\n",
    "#     {\n",
    "#         \"name\": \"v12.csv\",\n",
    "#         \"hyper_params\":{},\n",
    "#         \"feature_adjustments\":{\n",
    "#             \"sales_shift\":[1,2,3]\n",
    "#         },\n",
    "#     },\n",
    "#     {\n",
    "#         \"name\": \"v13_with_oil_ma_m16.csv\",\n",
    "#         \"hyper_params\":{},\n",
    "#         \"feature_adjustments\":{\n",
    "#             \"oil_ma_window\": [-16]\n",
    "#         },\n",
    "#     },\n",
    "#     {\n",
    "#         \"name\": \"v13_with_sales_ma_90.csv\",\n",
    "#         \"hyper_params\":{},\n",
    "#         \"feature_adjustments\":{\n",
    "#             \"sales_ma_window\": [7,14,21]\n",
    "#         },\n",
    "#     },\n",
    "    {\n",
    "        \"name\": \"v15_with_best_hyper_parameters.csv\",\n",
    "        \"hyper_params\":best_xgb_hyper_parameters,\n",
    "        \"feature_adjustments\":{},\n",
    "    },\n",
    "]\n",
    "    \n",
    "for setting in submission_generation_list:\n",
    "    rerun_model_submission(**setting)"
   ]
  },
  {
   "cell_type": "code",
   "execution_count": null,
   "id": "630f4cbb",
   "metadata": {
    "papermill": {
     "duration": 0.005228,
     "end_time": "2024-04-11T10:14:51.415379",
     "exception": false,
     "start_time": "2024-04-11T10:14:51.410151",
     "status": "completed"
    },
    "tags": []
   },
   "outputs": [],
   "source": []
  }
 ],
 "metadata": {
  "kaggle": {
   "accelerator": "none",
   "dataSources": [
    {
     "databundleVersionId": 2887556,
     "sourceId": 29781,
     "sourceType": "competition"
    }
   ],
   "dockerImageVersionId": 30673,
   "isGpuEnabled": false,
   "isInternetEnabled": false,
   "language": "python",
   "sourceType": "notebook"
  },
  "kernelspec": {
   "display_name": "Python 3",
   "language": "python",
   "name": "python3"
  },
  "language_info": {
   "codemirror_mode": {
    "name": "ipython",
    "version": 3
   },
   "file_extension": ".py",
   "mimetype": "text/x-python",
   "name": "python",
   "nbconvert_exporter": "python",
   "pygments_lexer": "ipython3",
   "version": "3.10.13"
  },
  "papermill": {
   "default_parameters": {},
   "duration": 8229.49168,
   "end_time": "2024-04-11T10:14:52.258930",
   "environment_variables": {},
   "exception": null,
   "input_path": "__notebook__.ipynb",
   "output_path": "__notebook__.ipynb",
   "parameters": {},
   "start_time": "2024-04-11T07:57:42.767250",
   "version": "2.5.0"
  }
 },
 "nbformat": 4,
 "nbformat_minor": 5
}
